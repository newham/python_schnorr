{
 "cells": [
  {
   "cell_type": "markdown",
   "metadata": {},
   "source": [
    "Setup:\n",
    "\n",
    "  x := random number   (aka private key)\n",
    "  X := x * B           (aka public key)\n",
    "\n",
    "Sign:\n",
    "\n",
    "  r := random number   (aka nonce)\n",
    "  R := r * B           (aka commitment)\n",
    "  e := Hash(R, message)(aka challenge)\n",
    "  s := r + e * x       (aka response)\n",
    "  return (R, s)        (aka signature)\n",
    "\n",
    "Verify:\n",
    "\n",
    "  receive (R, s)\n",
    "  e  := Hash(R, message)\n",
    "  S1 := R + e * X\n",
    "  S2 := s * B\n",
    "  return OK if S1 equals S2"
   ]
  },
  {
   "cell_type": "code",
   "execution_count": 75,
   "metadata": {},
   "outputs": [],
   "source": [
    "import my_ecc\n"
   ]
  },
  {
   "cell_type": "code",
   "execution_count": 76,
   "metadata": {},
   "outputs": [],
   "source": [
    "a = 0\n",
    "b = 7\n",
    "p = 0xFFFFFFFFFFFFFFFFFFFFFFFFFFFFFFFFFFFFFFFFFFFFFFFFFFFFFFFEFFFFFC2F\n",
    "x0 = 0x79BE667EF9DCBBAC55A06295CE870B07029BFCDB2DCE28D959F2815B16F81798\n",
    "y0 = 0x483ADA7726A3C4655DA4FBFC0E1108A8FD17B448A68554199C47D08FFB10D4B8\n"
   ]
  },
  {
   "cell_type": "code",
   "execution_count": 87,
   "metadata": {},
   "outputs": [
    {
     "data": {
      "text/plain": [
       "1067362225016502275772194909503713869376985974142797512091458491530306631211206623652669436957676354343630306950631573032330832513385319878364322508915776"
      ]
     },
     "execution_count": 87,
     "metadata": {},
     "output_type": "execute_result"
    }
   ],
   "source": [
    "x0**3 + a*x0 + b\n"
   ]
  },
  {
   "cell_type": "code",
   "execution_count": 88,
   "metadata": {},
   "outputs": [
    {
     "data": {
      "text/plain": [
       "1067362225016502275772194909503713869376985974142797512091458491530306631211206623652669436957676354343630306950631573032330832513385319878364322508915776"
      ]
     },
     "execution_count": 88,
     "metadata": {},
     "output_type": "execute_result"
    }
   ],
   "source": [
    "y0**2"
   ]
  },
  {
   "cell_type": "code",
   "execution_count": 84,
   "metadata": {},
   "outputs": [
    {
     "name": "stdout",
     "output_type": "stream",
     "text": [
      "False\n"
     ]
    }
   ],
   "source": [
    "def test_ecc_times():\n",
    "    # x1, y1 = ecc.curve_plus(a, p, x0, y0, x0, y0)\n",
    "    print(curve(a, b, p, x0, y0))\n",
    "\n",
    "\n",
    "test_ecc_times()\n"
   ]
  }
 ],
 "metadata": {
  "interpreter": {
   "hash": "51763f09b87c73381c85ce0ba81648fdcb2ac84399c7ca326498efbfdad1a6fa"
  },
  "kernelspec": {
   "display_name": "Python 3.8.9 64-bit ('env': virtualenv)",
   "name": "python3"
  },
  "language_info": {
   "codemirror_mode": {
    "name": "ipython",
    "version": 3
   },
   "file_extension": ".py",
   "mimetype": "text/x-python",
   "name": "python",
   "nbconvert_exporter": "python",
   "pygments_lexer": "ipython3",
   "version": "3.8.9"
  },
  "orig_nbformat": 4
 },
 "nbformat": 4,
 "nbformat_minor": 2
}
